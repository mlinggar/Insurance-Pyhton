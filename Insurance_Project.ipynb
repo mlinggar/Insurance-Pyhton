{
 "cells": [
  {
   "cell_type": "code",
   "execution_count": null,
   "id": "fa39e7d2-7450-4703-a9dc-53ada448eb42",
   "metadata": {},
   "outputs": [],
   "source": [
    "# problem 1"
   ]
  },
  {
   "cell_type": "code",
   "execution_count": 18,
   "id": "cee2aa6f-057b-444d-936b-496d00a64730",
   "metadata": {},
   "outputs": [
    {
     "name": "stdout",
     "output_type": "stream",
     "text": [
      "13270.422265141257\n"
     ]
    }
   ],
   "source": [
    "import csv\n",
    "with open(\"insurance.csv\") as insurance_csv:\n",
    "    csv_reader = csv.reader(insurance_csv)\n",
    "    \n",
    "    total_charge = 0\n",
    "    count_charge = 0\n",
    "    \n",
    "    for line in csv_reader:\n",
    "        #print(line[6])\n",
    "        charges = line[6]\n",
    "        if charges == 'charges':\n",
    "            continue\n",
    "        #print(charges)\n",
    "        \n",
    "        total_charge = total_charge + float(charges)\n",
    "        count_charge = count_charge + 1\n",
    "    #print(total_charge)\n",
    "    #print(count_charge)\n",
    "    \n",
    "    avg_charge = total_charge / count_charge\n",
    "    print(avg_charge)\n",
    "\n",
    "    "
   ]
  },
  {
   "cell_type": "code",
   "execution_count": 57,
   "id": "1c494e54-061b-4110-9cd7-5b198b16a8b7",
   "metadata": {},
   "outputs": [],
   "source": [
    "# problem 2"
   ]
  },
  {
   "cell_type": "code",
   "execution_count": 38,
   "id": "faa6c97e-4c2c-4904-8178-d96c4fc54e7d",
   "metadata": {},
   "outputs": [
    {
     "name": "stdout",
     "output_type": "stream",
     "text": [
      "{'southwest': 325, 'southeast': 364, 'northwest': 325, 'northeast': 324}\n"
     ]
    }
   ],
   "source": [
    "import csv\n",
    "with open(\"insurance.csv\") as insurance_csv:\n",
    "    csv_reader = csv.reader(insurance_csv)\n",
    "    \n",
    "    region_insurance = {}\n",
    "    \n",
    "    for line in csv_reader:\n",
    "        #print(line[5])\n",
    "        region = line[5]\n",
    "        if region == \"region\":\n",
    "            continue\n",
    "        #print(region)\n",
    "        \n",
    "        if region in region_insurance.keys():\n",
    "            region_insurance[region] += 1\n",
    "        else :\n",
    "            region_insurance[region] = 1\n",
    "    print(region_insurance)"
   ]
  },
  {
   "cell_type": "code",
   "execution_count": null,
   "id": "41f920bf-14b1-413c-a96f-c178b5700d31",
   "metadata": {},
   "outputs": [
    {
     "name": "stdout",
     "output_type": "stream",
     "text": [
      "{'Stockholm': 1}\n"
     ]
    },
    {
     "data": {
      "text/plain": [
       "dict_keys(['Stockholm'])"
      ]
     },
     "execution_count": 35,
     "metadata": {},
     "output_type": "execute_result"
    }
   ],
   "source": [
    "# problem 3"
   ]
  },
  {
   "cell_type": "code",
   "execution_count": 56,
   "id": "f85dff8e-7583-468b-93cc-7e25ea332b2f",
   "metadata": {},
   "outputs": [
    {
     "name": "stdout",
     "output_type": "stream",
     "text": [
      "8781763.52184\n",
      "8974061.468918996\n"
     ]
    }
   ],
   "source": [
    "import csv\n",
    "with open(\"insurance.csv\") as insurance_csv:\n",
    "    csv_reader = csv.reader(insurance_csv)\n",
    "    \n",
    "    total_smoker = 0.0\n",
    "    total_nonsmoker = 0.0\n",
    "    for line in csv_reader:\n",
    "        #print(line[4], line[6])\n",
    "        \n",
    "            \n",
    "        charge = line[6]\n",
    "        smoker = line[4]\n",
    "        if charge == 'charges' and smoker == 'smoker':\n",
    "            continue\n",
    "        \n",
    "        charge = float(charge)\n",
    "        if smoker == \"yes\":\n",
    "            total_smoker += charge\n",
    "        elif smoker == 'no':\n",
    "            total_nonsmoker += charge\n",
    "            \n",
    "    print(total_smoker)\n",
    "    print(total_nonsmoker) "
   ]
  },
  {
   "cell_type": "code",
   "execution_count": null,
   "id": "ce43bff8-ab30-4768-9ed0-d88dee9157fc",
   "metadata": {},
   "outputs": [],
   "source": [
    "# problem 4"
   ]
  },
  {
   "cell_type": "code",
   "execution_count": 71,
   "id": "468795cc-0830-476c-b625-41db8dd12d60",
   "metadata": {},
   "outputs": [
    {
     "name": "stdout",
     "output_type": "stream",
     "text": [
      "39.4537037037037\n"
     ]
    }
   ],
   "source": [
    "import csv\n",
    "with open(\"insurance.csv\") as insurance_csv:\n",
    "    csv_reader = csv.reader(insurance_csv)\n",
    "    \n",
    "    total_age = 0\n",
    "    count_age = 0\n",
    "    \n",
    "    \n",
    "    for line in csv_reader:\n",
    "        #print(line[0])\n",
    "        age = line[0]\n",
    "        children = line[3]\n",
    "        if age == 'age' and children == 'children':\n",
    "            continue\n",
    "        #print(age)\n",
    "        #print(children)\n",
    "        \n",
    "        if children == \"1\": \n",
    "            total_age = total_age + float(age)\n",
    "            count_age = count_age + 1\n",
    "        \n",
    "    #print(total_charge)\n",
    "    #print(count_charge)\n",
    "    \n",
    "    avg_age = total_age / count_age\n",
    "    print(avg_age)"
   ]
  },
  {
   "cell_type": "code",
   "execution_count": null,
   "id": "cbe31f3d-89ea-4d26-b828-a01ea711522b",
   "metadata": {},
   "outputs": [],
   "source": []
  },
  {
   "cell_type": "code",
   "execution_count": null,
   "id": "0b66ff7a-15f8-4418-9f0a-33cf65ebb623",
   "metadata": {},
   "outputs": [],
   "source": []
  }
 ],
 "metadata": {
  "kernelspec": {
   "display_name": "Python 3 (ipykernel)",
   "language": "python",
   "name": "python3"
  },
  "language_info": {
   "codemirror_mode": {
    "name": "ipython",
    "version": 3
   },
   "file_extension": ".py",
   "mimetype": "text/x-python",
   "name": "python",
   "nbconvert_exporter": "python",
   "pygments_lexer": "ipython3",
   "version": "3.9.7"
  }
 },
 "nbformat": 4,
 "nbformat_minor": 5
}
