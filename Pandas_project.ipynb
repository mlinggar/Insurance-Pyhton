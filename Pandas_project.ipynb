{
 "cells": [
  {
   "cell_type": "code",
   "execution_count": null,
   "id": "8aba2de1-989b-4913-9abc-bf1753d0dc89",
   "metadata": {},
   "outputs": [],
   "source": [
    "#problem 1"
   ]
  },
  {
   "cell_type": "code",
   "execution_count": 26,
   "id": "afe06d50",
   "metadata": {},
   "outputs": [
    {
     "name": "stdout",
     "output_type": "stream",
     "text": [
      "Index(['Show Number', 'Air Date', 'Round', 'Category', 'Value', 'Question',\n",
      "       'Answer'],\n",
      "      dtype='object')\n",
      "0         For the last 8 years of his life, Galileo was under house arrest for espousing this man's theory                      \n",
      "1         No. 2: 1912 Olympian; football star at Carlisle Indian School; 6 MLB seasons with the Reds, Giants & Braves           \n",
      "2         The city of Yuma in this state has a record average of 4,055 hours of sunshine each year                              \n",
      "3         In 1963, live on \"The Art Linkletter Show\", this company served its billionth burger                                  \n",
      "4         Signer of the Dec. of Indep., framer of the Constitution of Mass., second President of the United States              \n",
      "                                                            ...                                                                 \n",
      "216925    This Puccini opera turns on the solution to 3 riddles posed by the heroine                                            \n",
      "216926    In North America this term is properly applied to only 4 species that are crested, including the tufted               \n",
      "216927    In Penny Lane, where this \"Hellraiser\" grew up, the barber shaves another customer--then flays him alive!             \n",
      "216928    From Ft. Sill, Okla. he made the plea, Arizona is my land, my home, my father's land, to which I now ask to... return\"\n",
      "216929    A silent movie title includes the last name of this 18th c. statesman & favorite of Catherine the Great               \n",
      "Name: Question, Length: 216930, dtype: object\n"
     ]
    }
   ],
   "source": [
    "import pandas as pd\n",
    "import csv\n",
    "\n",
    "jeopardy = pd.read_csv('jeopardy.csv')\n",
    "jeopardy = jeopardy.rename(columns = {\" Air Date\": \"Air Date\", \" Round\" : \"Round\", \" Category\": \"Category\", \" Value\": \"Value\", \" Question\":\"Question\", \" Answer\": \"Answer\"})\n",
    "print(jeopardy.columns)\n",
    "print(jeopardy[\"Question\"])"
   ]
  },
  {
   "cell_type": "code",
   "execution_count": null,
   "id": "969eb219-da4c-4dcc-9b13-a29c4a401dac",
   "metadata": {},
   "outputs": [],
   "source": [
    "#problem 2"
   ]
  },
  {
   "cell_type": "code",
   "execution_count": 29,
   "id": "8e43e3c6",
   "metadata": {},
   "outputs": [
    {
     "name": "stdout",
     "output_type": "stream",
     "text": [
      "4953      Both England's King George V & FDR put their stamp of approval on this \"King of Hobbies\"                                                                                                                                                                                                                                                                \n",
      "14912     This country's King Louis IV was nicknamed \"Louis From Overseas\" because he was raised in England                                                                                                                                                                                                                                                       \n",
      "21511     this man and his son ruled England following the execution of King Charles I                                                                                                                                                                                                                                                                            \n",
      "23810     William the Conqueror was crowned King of England in Westminster Abbey on Christmas Day in this year                                                                                                                                                                                                                                                    \n",
      "27555     This member of the Medici family was the mother-in-law of England's King Charles I                                                                                                                                                                                                                                                                      \n",
      "33294     (Sarah of the Clue Crew delivers the clue from the Bayeux Cathedral in France.)  Despite taking an oath to assure another succession, Harold is crowned King of England; the tapestry indicated it was <a href=\"http://www.j-archive.com/media/2008-12-18_J_08.jpg\" target=\"_blank\">Stigant</a>, this archbishop, who performed the ceremony            \n",
      "41148     This French king recognized William of Orange as William II, King of England, under the terms of 1697's Treaty of Ryswick                                                                                                                                                                                                                               \n",
      "41357     England's King Henry VIII had 3 wives named Catherine:  Catherine Howard, Catherine of Aragon & this one                                                                                                                                                                                                                                                \n",
      "43122     The father of England's King Edward VI                                                                                                                                                                                                                                                                                                                  \n",
      "47814     This steak sauce was created for King George IV of England                                                                                                                                                                                                                                                                                              \n",
      "49994     Elizabeth I's half-brother, he reigned before her as King of England from 1547 to 1553                                                                                                                                                                                                                                                                  \n",
      "51115     (<a href=\"http://www.j-archive.com/media/2000-03-02_J_22.jpg\" target=\"_blank\">Alex Trebek reads from England.</a>)  In 1214 barons fed up with King John met at the abbey whose ruins we see here; the result a year later was this charter                                                                                                             \n",
      "51565     He wrote several anthems, including \"The King Shall Rejoice\", for the coronation of England's King George II                                                                                                                                                                                                                                            \n",
      "56600     This city known for its 24-hour auto race was the birthplace of England's King Henry II in 1133                                                                                                                                                                                                                                                         \n",
      "57516     Famous (& rather insulting) adjective for England's King Ethelred II                                                                                                                                                                                                                                                                                    \n",
      "58949     He became King of England in 1399 after forcing his cousin Richard II from the throne                                                                                                                                                                                                                                                                   \n",
      "71808     Number of the William who was England's \"Sailor King\" from 1830 to 1837                                                                                                                                                                                                                                                                                 \n",
      "74235     Barons & churchmen drew up this 1215 document to reduce the power of England's King John                                                                                                                                                                                                                                                                \n",
      "77195     He became King of England on June 26, 1483; just over 2 years later he was killed at Bosworth Field                                                                                                                                                                                                                                                     \n",
      "79457     On Christmas Day 1066, he was crowned King of England, 72 days after defeating Harold at the Battle of Hastings                                                                                                                                                                                                                                         \n",
      "80113     England's King Charles II was known by this \"jovial\" nickname                                                                                                                                                                                                                                                                                           \n",
      "84639     He went from second banana on \"Roseanne\" to top banana of England in \"King Ralph\"                                                                                                                                                                                                                                                                       \n",
      "86412     This country's King Olaf V was born in England & was the grandson of King Edward VII                                                                                                                                                                                                                                                                    \n",
      "89710     This 11th Century King of England also ruled Denmark & Norway during the latter part of his reign                                                                                                                                                                                                                                                       \n",
      "111926    It begins \"John, by the grace of God, King of England, Lord of Ireland, Duke of Normandy & Aquitaine....\"                                                                                                                                                                                                                                               \n",
      "118809    In French this King of England is called Guillaume le Conquerant                                                                                                                                                                                                                                                                                        \n",
      "123299    If you want to be crowned King of England, this rock has to be in your coronation chair                                                                                                                                                                                                                                                                 \n",
      "123671    King Henry VII of England dies                                                                                                                                                                                                                                                                                                                          \n",
      "125822    Famous nickname of the eldest son of England's King Edward III                                                                                                                                                                                                                                                                                          \n",
      "127484    Ethelred the Unready managed to lose most of England to King Sweyn Forkbeard of this country                                                                                                                                                                                                                                                            \n",
      "127758    This state was named for the King of England who reigned from 1727 to 1760                                                                                                                                                                                                                                                                              \n",
      "129106    King Edward I of England, who fought William Wallace, had this nickname relating to his height                                                                                                                                                                                                                                                          \n",
      "130208    This \"Sun King\" sniffed, \"England is a little garden full of sour weeds\"                                                                                                                                                                                                                                                                                \n",
      "137818    The last King William to rule England had this number after his name                                                                                                                                                                                                                                                                                    \n",
      "143434    This Flemish artist painted a unique triple portrait of England's King Charles I around 1637                                                                                                                                                                                                                                                            \n",
      "150880    During Stanley Baldwin's term as P.M., this King of England abdicated                                                                                                                                                                                                                                                                                   \n",
      "165110    The 1st commoner to rule England, he became lord protector following the overthrow of King Charles I                                                                                                                                                                                                                                                    \n",
      "165197    The \"Angel of Hadley\" is said to have saved a New England town during the war with this Indian \"King\"                                                                                                                                                                                                                                                   \n",
      "170007    In the 1697 Treaty of Rijswijk, the French recognized this Dutch-born man as King of England                                                                                                                                                                                                                                                            \n",
      "174055    This conqueror was crowned King of England on Christmas Day 1066                                                                                                                                                                                                                                                                                        \n",
      "175259    His short reign as King of England fell in in 1936                                                                                                                                                                                                                                                                                                      \n",
      "183462    A capital in the West Indies is named for this family name of William of Orange, King of England                                                                                                                                                                                                                                                        \n",
      "186239    He was King of England from 1189 to 1199 but spent only 6 months there; the rest of the time, he was off fighting                                                                                                                                                                                                                                       \n",
      "187651    This Bahamian capital took its name from the family name of King William III of England                                                                                                                                                                                                                                                                 \n",
      "191579    England's King Harold II lost the all-important Battle of Hastings in this year                                                                                                                                                                                                                                                                         \n",
      "192265    (<a href=\"http://www.j-archive.com/media/2012-01-17_DJ_25.jpg\" target=\"_blank\">Sarah of the Clue Crew stands in front of the Royal Palace in Oslo, Norway.</a>) King Harald V lives here, in Norway's Royal Palace. He and his second cousin, England's Queen Elizabeth, are both great-grandchildren of this British king, who ruled from 1901 to 1910.\n",
      "192966    England's King _____ _____ R. Luce                                                                                                                                                                                                                                                                                                                      \n",
      "194516    The \"Monty Python\" member who played King Arthur, he ended his grail quest in Maidstone, England                                                                                                                                                                                                                                                        \n",
      "200369    8th C. King Offa built a 170-mile north-south dike that still partly marks the border of England & this country                                                                                                                                                                                                                                         \n",
      "Name: Question, dtype: object\n"
     ]
    }
   ],
   "source": [
    "def filter_jeopardy(data, words):\n",
    "    filter = lambda x: all(word in x for word in words)\n",
    "    return data.loc[data['Question'].apply(filter)]\n",
    "\n",
    "filtered_question = filter_jeopardy(jeopardy, ['King', 'England'])\n",
    "print(filtered_question['Question'])"
   ]
  },
  {
   "cell_type": "code",
   "execution_count": null,
   "id": "8e2d8f62-89c2-40b7-bd7b-f5ba2221931e",
   "metadata": {},
   "outputs": [],
   "source": [
    "#problem 3"
   ]
  },
  {
   "cell_type": "code",
   "execution_count": 4,
   "id": "fa6ed503-f857-4319-8d39-18ce8b93d3a9",
   "metadata": {},
   "outputs": [
    {
     "name": "stdout",
     "output_type": "stream",
     "text": [
      "Index(['Show Number', 'Air Date', 'Round', 'Category', 'Value', 'Question',\n",
      "       'Answer'],\n",
      "      dtype='object')\n",
      "0         For the last 8 years of his life, Galileo was ...\n",
      "1         No. 2: 1912 Olympian; football star at Carlisl...\n",
      "2         The city of Yuma in this state has a record av...\n",
      "3         In 1963, live on \"The Art Linkletter Show\", th...\n",
      "4         Signer of the Dec. of Indep., framer of the Co...\n",
      "                                ...                        \n",
      "216925    This Puccini opera turns on the solution to 3 ...\n",
      "216926    In North America this term is properly applied...\n",
      "216927    In Penny Lane, where this \"Hellraiser\" grew up...\n",
      "216928    From Ft. Sill, Okla. he made the plea, Arizona...\n",
      "216929    A silent movie title includes the last name of...\n",
      "Name: Question, Length: 216930, dtype: object\n",
      "4953      Both England's King George V & FDR put their s...\n",
      "6337      In retaliation for Viking raids, this \"Unready...\n",
      "9191      This king of England beat the odds to trounce ...\n",
      "11710     This Scotsman, the first Stuart king of Englan...\n",
      "13454     It's the number that followed the last king of...\n",
      "                                ...                        \n",
      "208295    In 1066 this great-great grandson of Rollo mad...\n",
      "208742    Dutch-born king who ruled England jointly with...\n",
      "213870    In 1781 William Herschel discovered Uranus & i...\n",
      "216021    His nickname was \"Bertie\", but he used this na...\n",
      "216789    This kingdom of England grew from 2 settlement...\n",
      "Name: Question, Length: 152, dtype: object\n"
     ]
    }
   ],
   "source": [
    "import pandas as pd\n",
    "import csv\n",
    "\n",
    "jeopardy = pd.read_csv('jeopardy.csv')\n",
    "jeopardy = jeopardy.rename(columns = {\" Air Date\": \"Air Date\", \" Round\" : \"Round\", \" Category\": \"Category\", \" Value\": \"Value\", \" Question\":\"Question\", \" Answer\": \"Answer\"})\n",
    "print(jeopardy.columns)\n",
    "print(jeopardy[\"Question\"])\n",
    "\n",
    "def filter_jeopardy(data, words):\n",
    "    filter = lambda x: all(word.lower() in x.lower() for word in words)\n",
    "    return data.loc[data['Question'].apply(filter)]\n",
    "\n",
    "filtered_question = filter_jeopardy(jeopardy, ['King', 'England'])\n",
    "print(filtered_question['Question'])"
   ]
  },
  {
   "cell_type": "code",
   "execution_count": null,
   "id": "d0cae6d5-bbd1-48ce-a1a6-bcb6c3286a4f",
   "metadata": {},
   "outputs": [],
   "source": [
    "#problem 4"
   ]
  },
  {
   "cell_type": "code",
   "execution_count": 10,
   "id": "fff4fe38-0e6d-4f23-9568-05efda193e06",
   "metadata": {},
   "outputs": [
    {
     "name": "stdout",
     "output_type": "stream",
     "text": [
      "771.8833850722094\n"
     ]
    }
   ],
   "source": [
    "import pandas as pd\n",
    "import csv\n",
    "\n",
    "jeopardy = pd.read_csv('jeopardy.csv')\n",
    "jeopardy = jeopardy.rename(columns = {\" Air Date\": \"Air Date\", \" Round\" : \"Round\", \" Category\": \"Category\", \" Value\": \"Value\", \" Question\":\"Question\", \" Answer\": \"Answer\"})\n",
    "#print(jeopardy.columns)\n",
    "#print(jeopardy[\"Question\"])\n",
    "\n",
    "def filter_jeopardy(data, words):\n",
    "    filter = lambda x: all(word.lower() in x.lower() for word in words)\n",
    "    return data.loc[data['Question'].apply(filter)]\n",
    "\n",
    "#filtered_question = filter_jeopardy(jeopardy, ['King', 'England'])\n",
    "#print(filtered_question['Question'])\n",
    "\n",
    "jeopardy['Float Value'] = jeopardy['Value'].apply(lambda x: float(x[1:].replace(',','')) if x != 'None' else 0)\n",
    "    \n",
    "filtered_value = filter_jeopardy(jeopardy, ['King'])\n",
    "print(filtered_value['Float Value'].mean())"
   ]
  },
  {
   "cell_type": "code",
   "execution_count": null,
   "id": "7259ffb7-4b2c-42a6-8496-8ff21e675bb4",
   "metadata": {},
   "outputs": [],
   "source": [
    "#problem 5"
   ]
  },
  {
   "cell_type": "code",
   "execution_count": 11,
   "id": "a6025b6e-4e63-49d1-b747-e1f98eb987df",
   "metadata": {},
   "outputs": [
    {
     "name": "stdout",
     "output_type": "stream",
     "text": [
      "Henry VIII                   55\n",
      "Solomon                      35\n",
      "Richard III                  33\n",
      "Louis XIV                    31\n",
      "David                        30\n",
      "                             ..\n",
      "cardiac (in card I acted)     1\n",
      "Henderson                     1\n",
      "Computer                      1\n",
      "Indians                       1\n",
      "work                          1\n",
      "Name: Answer, Length: 5268, dtype: int64\n"
     ]
    }
   ],
   "source": [
    "import pandas as pd\n",
    "import csv\n",
    "\n",
    "jeopardy = pd.read_csv('jeopardy.csv')\n",
    "jeopardy = jeopardy.rename(columns = {\" Air Date\": \"Air Date\", \" Round\" : \"Round\", \" Category\": \"Category\", \" Value\": \"Value\", \" Question\":\"Question\", \" Answer\": \"Answer\"})\n",
    "#print(jeopardy.columns)\n",
    "#print(jeopardy[\"Question\"])\n",
    "\n",
    "def filter_jeopardy(data, words):\n",
    "    filter = lambda x: all(word.lower() in x.lower() for word in words)\n",
    "    return data.loc[data['Question'].apply(filter)]\n",
    "\n",
    "#filtered_question = filter_jeopardy(jeopardy, ['King', 'England'])\n",
    "#print(filtered_question['Question'])\n",
    "\n",
    "jeopardy['Float Value'] = jeopardy['Value'].apply(lambda x: float(x[1:].replace(',','')) if x != 'None' else 0)\n",
    "    \n",
    "filtered_value = filter_jeopardy(jeopardy, ['King'])\n",
    "#print(filtered_value['Float Value'].mean())\n",
    "\n",
    "def unique_count(data):\n",
    "    return data['Answer'].value_counts()\n",
    "\n",
    "print(unique_count(filtered_value))"
   ]
  },
  {
   "cell_type": "code",
   "execution_count": 11,
   "id": "842befe1-8221-4d06-a004-cacb98cb4787",
   "metadata": {},
   "outputs": [
    {
     "name": "stdout",
     "output_type": "stream",
     "text": [
      "Show Number    98\n",
      "Air Date       98\n",
      "Round          98\n",
      "Category       98\n",
      "Value          98\n",
      "Question       98\n",
      "Answer         98\n",
      "dtype: int64\n",
      "Show Number    268\n",
      "Air Date       268\n",
      "Round          268\n",
      "Category       268\n",
      "Value          268\n",
      "Question       268\n",
      "Answer         268\n",
      "dtype: int64\n"
     ]
    }
   ],
   "source": [
    "#problem 6\n",
    "#Investigate the ways in which questions change over time by filtering by the date. How many questions from the 90s use the word \"Computer\" compared to questions from the 2000s?\n",
    "\n",
    "import pandas as pd\n",
    "import csv\n",
    "\n",
    "jeopardy = pd.read_csv('jeopardy.csv')\n",
    "jeopardy = jeopardy.rename(columns = {\" Air Date\": \"Air Date\", \" Round\" : \"Round\", \" Category\": \"Category\", \" Value\": \"Value\", \" Question\":\"Question\", \" Answer\": \"Answer\"})\n",
    "#print(jeopardy.columns)\n",
    "#print(jeopardy[\"Question\"])\n",
    "\n",
    "def filter_jeopardy(data, words):\n",
    "    filter = lambda x: all(word.lower() in x.lower() for word in words)\n",
    "    return data.loc[data['Question'].apply(filter)]\n",
    "\n",
    "filtered_question = filter_jeopardy(jeopardy, ['Computer'])\n",
    "\n",
    "jeopardy_90s = filtered_question[(filtered_question[\"Air Date\"] >= '1990-01-01') & (filtered_question[\"Air Date\"] < '2000-01-01')]\n",
    "jeopardy_2000s = filtered_question[(filtered_question[\"Air Date\"] >= '2000-01-01') & (filtered_question[\"Air Date\"] < '2010-01-01')]\n",
    "\n",
    "\n",
    "#print(filtered_question['Question'])\n",
    "\n",
    "\n",
    "print(jeopardy_90s.count())\n",
    "print(jeopardy_2000s.count())\n",
    "\n",
    "\n",
    "#print(jeopardy90s_count(filtered_question['Question']))\n",
    "#print(jeopardy2000s_count(filtered_question))\n",
    "\n"
   ]
  },
  {
   "cell_type": "code",
   "execution_count": 8,
   "id": "b1b1e4f6-c8f6-4229-9cb0-faeb132a5617",
   "metadata": {},
   "outputs": [
    {
     "name": "stdout",
     "output_type": "stream",
     "text": [
      "juan\n"
     ]
    }
   ],
   "source": [
    "nama = 'juan'\n",
    "\n",
    "def linggar(data):\n",
    "    print(nama)\n",
    "\n",
    "\n",
    "linggar('halo')"
   ]
  },
  {
   "cell_type": "code",
   "execution_count": 32,
   "id": "5ac03ff9-4d99-4c55-8e28-34a18a93870d",
   "metadata": {},
   "outputs": [
    {
     "name": "stdout",
     "output_type": "stream",
     "text": [
      "170\n"
     ]
    }
   ],
   "source": [
    "#problem 6\n",
    "#Investigate the ways in which questions change over time by filtering by the date. How many questions from the 90s use the word \"Computer\" compared to questions from the 2000s?\n",
    "\n",
    "import pandas as pd\n",
    "import csv\n",
    "\n",
    "jeopardy = pd.read_csv('jeopardy.csv')\n",
    "jeopardy = jeopardy.rename(columns = {\" Air Date\": \"Air Date\", \" Round\" : \"Round\", \" Category\": \"Category\", \" Value\": \"Value\", \" Question\":\"Question\", \" Answer\": \"Answer\"})\n",
    "#print(jeopardy.columns)\n",
    "#print(jeopardy[\"Question\"])\n",
    "\n",
    "#filtered_question = jeopardy.loc['computer' in jeopardy[\"Question\"].str.lower()]\n",
    "\n",
    "jeopardy['question_lower'] = jeopardy['Question'].str.lower()\n",
    "\n",
    "filtered_question = jeopardy[jeopardy['question_lower'].str.contains(\"computer\")]\n",
    "\n",
    "jeopardy_90s = filtered_question[(filtered_question[\"Air Date\"] >= '1990-01-01') & (filtered_question[\"Air Date\"] < '2000-01-01')]\n",
    "jeopardy_2000s = filtered_question[(filtered_question[\"Air Date\"] >= '2000-01-01') & (filtered_question[\"Air Date\"] < '2010-01-01')]\n",
    "\n",
    "\n",
    "#print(filtered_question)\n",
    "\n",
    "\n",
    "\n",
    "\n",
    "#print(jeopardy_90s.count())\n",
    "#print(jeopardy_2000s.count())\n",
    "\n",
    "compare90s_2000s = jeopardy_2000s['Question'].count() - jeopardy_90s.Question.count()\n",
    "print(compare90s_2000s)\n",
    "#print(jeopardy90s_count(filtered_question['Question']))\n",
    "#print(jeopardy2000s_count(filtered_question))\n"
   ]
  },
  {
   "cell_type": "code",
   "execution_count": null,
   "id": "4a97393b-53a5-4fff-9a82-ee293ff716ae",
   "metadata": {},
   "outputs": [],
   "source": []
  }
 ],
 "metadata": {
  "kernelspec": {
   "display_name": "Python 3 (ipykernel)",
   "language": "python",
   "name": "python3"
  },
  "language_info": {
   "codemirror_mode": {
    "name": "ipython",
    "version": 3
   },
   "file_extension": ".py",
   "mimetype": "text/x-python",
   "name": "python",
   "nbconvert_exporter": "python",
   "pygments_lexer": "ipython3",
   "version": "3.9.7"
  }
 },
 "nbformat": 4,
 "nbformat_minor": 5
}
